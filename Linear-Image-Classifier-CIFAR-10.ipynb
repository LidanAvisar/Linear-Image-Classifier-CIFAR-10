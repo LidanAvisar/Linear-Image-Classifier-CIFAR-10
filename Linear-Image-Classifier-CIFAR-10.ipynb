{
 "cells": [
  {
   "cell_type": "markdown",
   "metadata": {
    "id": "QnJUALElET8I"
   },
   "source": [
    "# Exercise 1: Linear Image Classifier\n",
    "\n",
    "In this exercise you will implement a linear image classifier while getting familiar with `numpy` and the benefits of vectorized operations in Python. This exercise has 2 parts:\n",
    "\n",
    "1. Implementing loss functions, calculating gradients and implementing gradient descent.\n",
    "2. Training and evaluating several classifiers.\n",
    "\n",
    "## Submission guidelines:\n",
    "\n",
    "Your submission should only include this jupyter notebook named HW1_ID.ipynb.\n",
    "\n",
    "## Read the following instructions carefully:\n",
    "\n",
    "1. This jupyter notebook contains all the step by step instructions needed for this exercise.\n",
    "2. Write **efficient vectorized** code whenever instructed. \n",
    "3. You are responsible for the correctness of your code and should add as many tests as you see fit. Tests will not be graded nor checked.\n",
    "4. Do not change the functions we provided you. \n",
    "4. Write your functions in the instructed python modules only. All the logic you write is imported and used using this jupyter notebook. You are allowed to add functions as long as they are located in the python modules and are imported properly.\n",
    "5. You are allowed to use functions and methods from the [Python Standard Library](https://docs.python.org/3/library/) and [numpy](https://www.numpy.org/devdocs/reference/) only. Any other imports are forbidden.\n",
    "6. Your code must run without errors.\n",
    "7. Answers to qualitative questions should be written in **markdown** cells (with $\\LaTeX$ support).\n",
    "8. **TIP: When there is a TODO before a missing code segment (or function), you can continue without implementing it right away; you will be referred to the missing segment later in the exercise.**"
   ]
  },
  {
   "cell_type": "markdown",
   "metadata": {
    "id": "_r1L4UklET8K"
   },
   "source": [
    "Q: What files do we need to upload to moodle?\n",
    "\n",
    "A: You should fill in the missing parts in this Jupyter notebook and then submit it via moodle (without any additional files).\n",
    "\n",
    "Q: How do I make sure everything works before I submit?\n",
    "\n",
    "A: You should restart your kernel and rerun all cells. Make sure you get the desired output and that you meet exercise requirements. **This is an important step. You should include your desired outputs in the output cells to make your code easier to understand.**"
   ]
  },
  {
   "cell_type": "markdown",
   "metadata": {
    "id": "UV9XOToVGvLZ"
   },
   "source": [
    "#### Installs (if needed)"
   ]
  },
  {
   "cell_type": "code",
   "execution_count": 849,
   "metadata": {},
   "outputs": [],
   "source": [
    "### Blank cell for pip install\n",
    "### EXAMPLE \n",
    "# %pip install numpy (in some platforms or versions you will need to use '!' instead of '%'. like this - !pip install numpy)\n",
    "\n",
    "\n",
    "### Make sure to restart the note book after the installs ###"
   ]
  },
  {
   "cell_type": "markdown",
   "metadata": {},
   "source": [
    "#### Imports"
   ]
  },
  {
   "cell_type": "code",
   "execution_count": 850,
   "metadata": {
    "ExecuteTime": {
     "end_time": "2022-10-29T15:21:00.158255Z",
     "start_time": "2022-10-29T15:20:59.290618Z"
    },
    "id": "iLXvPpILET8K"
   },
   "outputs": [],
   "source": [
    "import os\n",
    "import numpy as np\n",
    "import matplotlib.pyplot as plt\n",
    "import pickle\n",
    "import os\n",
    "import sys\n",
    "import urllib.request\n",
    "import tarfile\n",
    "import zipfile\n",
    "from random import randrange\n",
    "from functools import partial\n",
    "import itertools\n",
    "import time\n",
    "\n",
    "### if any import fails with the following Error - \"ModuleNotFoundError: No module named 'Module'\", use the blank cell from above to install the package using %pip install 'Module'\n",
    "\n",
    "# specify the way plots behave in jupyter notebook\n",
    "%matplotlib inline\n",
    "plt.rcParams['figure.figsize'] = (5.0, 3.0) # set default size of plots\n",
    "plt.rcParams['image.interpolation'] = 'nearest'\n",
    "plt.rcParams['image.cmap'] = 'gray'"
   ]
  },
  {
   "cell_type": "markdown",
   "metadata": {
    "heading_collapsed": true,
    "id": "BtYsC3I7ET8L"
   },
   "source": [
    "# Data preprocessing\n"
   ]
  },
  {
   "cell_type": "markdown",
   "metadata": {
    "hidden": true,
    "id": "-WovI1B4Gxwp"
   },
   "source": [
    "## Data download and processing Helper Code"
   ]
  },
  {
   "cell_type": "code",
   "execution_count": 851,
   "metadata": {
    "ExecuteTime": {
     "end_time": "2022-10-29T15:21:00.767100Z",
     "start_time": "2022-10-29T15:21:00.754066Z"
    },
    "code_folding": [],
    "hidden": true,
    "id": "sC6iBqvmGYsn"
   },
   "outputs": [],
   "source": [
    "def maybe_download_and_extract(url, download_dir):\n",
    "    \"\"\"\n",
    "    Download and extract the data if it doesn't already exist.\n",
    "    Assumes the url is a tar-ball file.\n",
    "    :param url:\n",
    "        Internet URL for the tar-file to download.\n",
    "        Example: \"https://www.cs.toronto.edu/~kriz/cifar-10-python.tar.gz\"\n",
    "    :param download_dir:\n",
    "        Directory where the downloaded file is saved.\n",
    "        Example: \"data/CIFAR-10/\"\n",
    "    :return:\n",
    "        Nothing.\n",
    "    \"\"\"\n",
    "\n",
    "    # Filename for saving the file downloaded from the internet.\n",
    "    # Use the filename from the URL and add it to the download_dir.\n",
    "    filename = url.split('/')[-1]\n",
    "    file_path = os.path.join(download_dir, filename)\n",
    "\n",
    "    # Check if the file already exists.\n",
    "    # If it exists then we assume it has also been extracted,\n",
    "    # otherwise we need to download and extract it now.\n",
    "    if not os.path.exists(file_path):\n",
    "        # Check if the download directory exists, otherwise create it.\n",
    "        if not os.path.exists(download_dir):\n",
    "            os.makedirs(download_dir)\n",
    "\n",
    "        # Download the file from the internet.\n",
    "        print(\"Downloading, This might take several minutes.\")\n",
    "        last_update_time = time.time()\n",
    "        file_path, _ = urllib.request.urlretrieve(url=url,\n",
    "                                                  filename=file_path)\n",
    "\n",
    "        print()\n",
    "        print(\"Download finished. Extracting files.\")\n",
    "\n",
    "        if file_path.endswith(\".zip\"):\n",
    "            # Unpack the zip-file.\n",
    "            zipfile.ZipFile(file=file_path, mode=\"r\").extractall(download_dir)\n",
    "        elif file_path.endswith((\".tar.gz\", \".tgz\")):\n",
    "            # Unpack the tar-ball.\n",
    "            tarfile.open(name=file_path, mode=\"r:gz\").extractall(download_dir)\n",
    "\n",
    "        print(\"Done.\")\n",
    "    else:\n",
    "        print(\"Data has apparently already been downloaded and unpacked.\")\n",
    "        print(\"If not, delete the dataset folder and try again.\")\n",
    "\n",
    "def load_CIFAR_batch(filename):\n",
    "    ''' load single batch of cifar '''\n",
    "    with open(filename, 'rb') as f:\n",
    "        datadict = pickle.load(f, encoding = 'latin1')\n",
    "        X = datadict['data']\n",
    "        Y = datadict['labels']\n",
    "        X = X.reshape(10000, 3, 32, 32).transpose(0, 2, 3, 1).astype(\"float\")\n",
    "        Y = np.array(Y)\n",
    "        return X, Y\n",
    "\n",
    "def load(ROOT):\n",
    "    ''' load all of cifar '''\n",
    "    xs = []\n",
    "    ys = []\n",
    "    for b in range(1, 6):\n",
    "        f = os.path.join(ROOT, 'data_batch_%d' % (b, ))\n",
    "        X, Y = load_CIFAR_batch(f)\n",
    "        xs.append(X)\n",
    "        ys.append(Y)\n",
    "    Xtr = np.concatenate(xs)\n",
    "    Ytr = np.concatenate(ys)\n",
    "    del X, Y\n",
    "    Xte, Yte = load_CIFAR_batch(os.path.join(ROOT, 'test_batch'))\n",
    "    return Xtr, Ytr, Xte, Yte"
   ]
  },
  {
   "cell_type": "markdown",
   "metadata": {
    "hidden": true,
    "id": "0qfmwr8lG3S8"
   },
   "source": [
    "## Data Download\n",
    "\n",
    "The next cell will download and extract CIFAR-10 into `datasets/cifar10/`. The CIFAR-10 dataset consists of 60,000 32x32 color images in 10 classes, with 6,000 images per class. There are 50,000 training images and 10,000 test images. The dataset is divided into five training batches and one test batch, each with 10,000 images. The test batch contains exactly 1,000 randomly-selected images from each class.\n"
   ]
  },
  {
   "cell_type": "code",
   "execution_count": 852,
   "metadata": {
    "ExecuteTime": {
     "end_time": "2022-10-29T15:21:01.686261Z",
     "start_time": "2022-10-29T15:21:01.675796Z"
    },
    "colab": {
     "base_uri": "https://localhost:8080/"
    },
    "hidden": true,
    "id": "eBbBnxJpET8L",
    "outputId": "19b0cf20-9282-492c-cad8-8d959975a10e"
   },
   "outputs": [
    {
     "name": "stdout",
     "output_type": "stream",
     "text": [
      "Data has apparently already been downloaded and unpacked.\n",
      "If not, delete the dataset folder and try again.\n"
     ]
    }
   ],
   "source": [
    "# this cell will download the data if it does not exists\n",
    "URL = \"https://www.cs.toronto.edu/~kriz/cifar-10-python.tar.gz\"\n",
    "PATH = 'datasets/cifar10/' # the script will create required directories\n",
    "maybe_download_and_extract(URL, PATH) "
   ]
  },
  {
   "cell_type": "markdown",
   "metadata": {
    "hidden": true,
    "id": "AIyo61vC-Dmv"
   },
   "source": [
    "## Data Preprocessing Part 1"
   ]
  },
  {
   "cell_type": "markdown",
   "metadata": {
    "hidden": true,
    "id": "ersTr2wB-RAd"
   },
   "source": [
    "We have included several image processing functions. Notice the following in particular: we created an additional validation dataset you need to use for hyperparameter optimization."
   ]
  },
  {
   "cell_type": "code",
   "execution_count": 853,
   "metadata": {
    "ExecuteTime": {
     "end_time": "2022-10-29T15:21:05.097768Z",
     "start_time": "2022-10-29T15:21:03.341893Z"
    },
    "hidden": true,
    "id": "NFUWV8LnET8M"
   },
   "outputs": [],
   "source": [
    "CIFAR10_PATH = os.path.join(PATH, 'cifar-10-batches-py')\n",
    "X_train, y_train, X_test, y_test = load(CIFAR10_PATH) # load the entire data\n",
    "\n",
    "# taking only two classes from the dataset\n",
    "X_train = X_train[np.logical_or(y_train == 0, y_train == 1)]\n",
    "y_train = y_train[np.logical_or(y_train == 0, y_train == 1)]\n",
    "X_test = X_test[np.logical_or(y_test == 0, y_test == 1)]\n",
    "y_test = y_test[np.logical_or(y_test == 0, y_test == 1)]\n",
    "\n",
    "# define a splitting for the data\n",
    "num_training = 10000\n",
    "num_validation = 1000\n",
    "num_testing = 1000\n",
    "\n",
    "mask = range(num_training)\n",
    "X_train = X_train[mask]\n",
    "y_train = y_train[mask]\n",
    "# portion from the test dataset a validation dataset for hyperparameter optimization\n",
    "mask = range(num_validation)\n",
    "X_val = X_test[mask]\n",
    "y_val = y_test[mask]\n",
    "# test dataset, without overlap with train/validation\n",
    "mask = range(num_validation, num_validation+num_testing)\n",
    "X_test = X_test[mask]\n",
    "y_test = y_test[mask]\n",
    "\n",
    "# float64\n",
    "X_train = X_train.astype(np.float64)\n",
    "X_val = X_val.astype(np.float64)\n",
    "X_test = X_test.astype(np.float64)\n",
    "\n",
    "classes = ('plane', 'car')"
   ]
  },
  {
   "cell_type": "code",
   "execution_count": 854,
   "metadata": {
    "ExecuteTime": {
     "end_time": "2022-10-29T15:21:05.911006Z",
     "start_time": "2022-10-29T15:21:05.755837Z"
    },
    "colab": {
     "base_uri": "https://localhost:8080/",
     "height": 151
    },
    "hidden": true,
    "id": "Daycmt2x5cVS",
    "outputId": "fe9e8a0d-66eb-4fa3-9196-462a2da8c180"
   },
   "outputs": [
    {
     "name": "stdout",
     "output_type": "stream",
     "text": [
      "      car\t      car\t    plane\t    plane\n"
     ]
    },
    {
     "data": {
      "image/png": "[encoded data removed]",
      "text/plain": [
       "<Figure size 500x300 with 1 Axes>"
      ]
     },
     "metadata": {},
     "output_type": "display_data"
    }
   ],
   "source": [
    "def get_batch(X, y, n=1000):\n",
    "    rand_items = np.random.randint(0, X.shape[0], size=n)\n",
    "    images = X[rand_items]\n",
    "    labels = y[rand_items]\n",
    "    return images, labels\n",
    "\n",
    "def make_random_grid(x, y, n=4, convert_to_image=True, random_flag=True):\n",
    "    if random_flag:\n",
    "        rand_items = np.random.randint(0, x.shape[0], size=n)\n",
    "    else:\n",
    "        rand_items = np.arange(0, x.shape[0])\n",
    "    images = x[rand_items]\n",
    "    labels = y[rand_items]\n",
    "    if convert_to_image:\n",
    "        grid = np.hstack(np.array([np.asarray((vec_2_img(i) + mean_image), dtype=np.int64) for i in images]))\n",
    "    else:\n",
    "        grid = np.hstack(np.array([np.asarray(i, dtype=np.int64) for i in images]))\n",
    "    print('\\t'.join('%9s' % classes[labels[j]] for j in range(n)))\n",
    "    return grid\n",
    "\n",
    "def vec_2_img(x):\n",
    "    x = np.reshape(x[:-1], (32, 32, 3))\n",
    "    return x\n",
    "\n",
    "X_batch, y_batch = get_batch(X_test, y_test, 100)\n",
    "plt.imshow(make_random_grid(X_batch, y_batch, n=4, convert_to_image=False));"
   ]
  },
  {
   "cell_type": "markdown",
   "metadata": {
    "hidden": true,
    "id": "RhismcUO9-xk"
   },
   "source": [
    "## Data Preprocessing Part 2\n",
    "\n",
    "We have included several image processing functions. Notice the following in particular: We subtracted the mean from all the images in order to ignore illumination conditions while keeping the content of the image. Next, we flattened the images from a tensor of shape (32x32x3) to a vector with 3072 features (pixel values) so we would be able to use a simple matrix multiplication. Finally, we concatenated each image vector with an additional feature to account for the bias. This is known as the bias trick. \n",
    "\n",
    "Make sure you understand this image processing pipeline before diving into the rest of the code."
   ]
  },
  {
   "cell_type": "code",
   "execution_count": 855,
   "metadata": {
    "ExecuteTime": {
     "end_time": "2022-10-29T15:21:06.836277Z",
     "start_time": "2022-10-29T15:21:06.555473Z"
    },
    "colab": {
     "base_uri": "https://localhost:8080/"
    },
    "hidden": true,
    "id": "C9YCYi5KZhXD",
    "outputId": "d0d032ee-5e2d-498f-b907-3ecc1fd895ef"
   },
   "outputs": [
    {
     "name": "stdout",
     "output_type": "stream",
     "text": [
      "Shape of Training Set: (10000, 3073)\n",
      "Shape of Validation Set: (1000, 3073)\n",
      "Shape of Test Set: (1000, 3073)\n"
     ]
    }
   ],
   "source": [
    "# Final data preprocessing\n",
    "# subtract the mean from all the images in the batch\n",
    "mean_image = np.mean(X_train, axis=0)\n",
    "X_train -= mean_image\n",
    "X_val -= mean_image\n",
    "X_test -= mean_image\n",
    "\n",
    "# flatten all the images in the batch (make sure you understand why this is needed)\n",
    "X_train = np.reshape(X_train, newshape=(X_train.shape[0], -1))\n",
    "X_val = np.reshape(X_val, newshape=(X_val.shape[0], -1)) \n",
    "X_test = np.reshape(X_test, newshape=(X_test.shape[0], -1)) \n",
    "\n",
    "# add a bias term to all images in the batch\n",
    "X_train = np.hstack([X_train, np.ones((X_train.shape[0], 1))]) \n",
    "X_val = np.hstack([X_val, np.ones((X_val.shape[0], 1))]) \n",
    "X_test = np.hstack([X_test, np.ones((X_test.shape[0], 1))]) \n",
    "\n",
    "print(f\"Shape of Training Set: {X_train.shape}\")\n",
    "print(f\"Shape of Validation Set: {X_val.shape}\")\n",
    "print(f\"Shape of Test Set: {X_test.shape}\")"
   ]
  },
  {
   "cell_type": "markdown",
   "metadata": {
    "id": "1BX0bVW0ET8N"
   },
   "source": [
    "# Linear classifier: mapping images to scores\n",
    "\n",
    "During this exercise, we will maintain a python class with basic functionality (such as training the model). the linear classifiers we will build (perceptron, logistic regression) will inherit some functionality from that class and will change several functions (such as the loss function, for example). Read the code in the next cell and make sure you understand it. You might also find this [short classes in python tutorial](https://www.hackerearth.com/practice/python/object-oriented-programming/classes-and-objects-i/tutorial/) useful.\n"
   ]
  },
  {
   "cell_type": "code",
   "execution_count": 856,
   "metadata": {},
   "outputs": [],
   "source": [
    "def convert_labels(y):\n",
    "        \"\"\"\n",
    "        Convert binary labels from 0 to -1 in a label array.\n",
    "\n",
    "        Input:\n",
    "        - y: 1-dimensional array of binary labels (0 or 1).\n",
    "        \n",
    "        Output:\n",
    "        - converted_y: 1-dimensional array with labels changed (-1 or 1).\n",
    "        \"\"\"\n",
    "        converted_y = y.copy()\n",
    "        converted_y[converted_y == 0] = -1\n",
    "        return converted_y"
   ]
  },
  {
   "cell_type": "code",
   "execution_count": 857,
   "metadata": {
    "ExecuteTime": {
     "end_time": "2022-10-29T15:21:15.523094Z",
     "start_time": "2022-10-29T15:21:15.502785Z"
    },
    "id": "FXAVk7l6LVty"
   },
   "outputs": [],
   "source": [
    "class LinearClassifier(object):\n",
    "    def __init__(self, X, y):\n",
    "        \"\"\"\n",
    "        Class constructor. Use this method to initiate the parameters of\n",
    "        your model (W)\n",
    "        *** Subclasses will override this. ***\n",
    "\n",
    "        Inputs:\n",
    "        - X: array of data - a 2D array of size (num_instances=N, num_features)\n",
    "        - y: 1-dimensional array of length N with binary labels\n",
    "\n",
    "        This function has no return value\n",
    "\n",
    "        \"\"\"\n",
    "        pass\n",
    "\n",
    "    def predict(self, X):\n",
    "        \"\"\"\n",
    "        Use the weight of the classifier to predict a label. \n",
    "        *** Subclasses will override this. ***\n",
    "\n",
    "        Input: 2D array of size (num_instances, num_features).\n",
    "        Output: 1D array of class predictions (num_instances, 1). \n",
    "        \"\"\"\n",
    "        pass\n",
    "\n",
    "    def calc_accuracy(self, X, y):\n",
    "        \"\"\"\n",
    "        Calculate the accuracy on a dataset as the percentage of instances \n",
    "        that are classified correctly. \n",
    "\n",
    "        Inputs:\n",
    "        - W: array of weights\n",
    "        - X: array of data\n",
    "        - y: 1-dimensional array of length N with binary labels\n",
    "        Returns:\n",
    "        - accuracy as a single float\n",
    "        \"\"\"\n",
    "\n",
    "        accuracy = 0.0\n",
    "        y_copy = convert_labels(y)\n",
    "        predictions = self.predict(X)\n",
    "        num_correct = np.sum(predictions == y_copy)\n",
    "\n",
    "        accuracy = num_correct / len(y_copy)\n",
    "\n",
    "        return accuracy\n",
    "\n",
    "\n",
    "    def train(self, X, y, learning_rate=1e-3, num_iters=100, batch_size=200, verbose=False):\n",
    "        #########################################################################\n",
    "        # TODO:                                                                 #\n",
    "        # Sample batch_size elements from the training data and their           #\n",
    "        # corresponding labels to use in every iteration.                       #\n",
    "        # Store the data in X_batch and their corresponding labels in           #\n",
    "        # y_batch                                                               #\n",
    "        #                                                                       #\n",
    "        # Hint: Use np.random.choice to generate indices. Sampling with         #\n",
    "        # replacement is faster than sampling without replacement.              #\n",
    "        #                                                                       #\n",
    "        # Next, calculate the loss and gradient and update the weights using    #\n",
    "        # the learning rate. Use the loss_history array to save the loss on     #\n",
    "        # iteration to visualize the loss.                                      #\n",
    "        #########################################################################\n",
    "        num_instances = X.shape[0]\n",
    "        y_copy = convert_labels(y)\n",
    "        loss_history = []\n",
    "        loss = 0.0\n",
    "        \n",
    "        for i in range(num_iters):\n",
    "            indices = np.random.choice(num_instances, batch_size, replace=True)\n",
    "            X_batch = X[indices]\n",
    "            y_batch = y_copy[indices]\n",
    "            \n",
    "\n",
    "            ###########################################################################\n",
    "            # Create X_batch and y_batch. Call the loss method to get the loss value  # \n",
    "            # and grad (the loss function is being override, see the loss             #\n",
    "            # function return values).                                                #\n",
    "            # Finally, append each of the loss values created in each iteration       #\n",
    "            # to loss_history.                                                        #\n",
    "            ###########################################################################\n",
    "            #                          START OF YOUR CODE                             #\n",
    "            ###########################################################################\n",
    "\n",
    "            \n",
    "            loss, gradient = self.loss(X_batch, y_batch)\n",
    "            loss_history.append(loss)\n",
    "            \n",
    "            \n",
    "            \n",
    "            ###########################################################################\n",
    "            #                           END OF YOUR CODE                              #\n",
    "            ###########################################################################\n",
    "            # TODO:                                                                   #\n",
    "            # Perform parameter update                                                #\n",
    "            # Update the weights using the gradient and the learning rate.            #\n",
    "            ###########################################################################\n",
    "            #                          START OF YOUR CODE                             #                                                         #\n",
    "            ###########################################################################\n",
    "\n",
    "            self.W -= learning_rate * gradient\n",
    "            \n",
    "            ###########################################################################\n",
    "            #                       END OF YOUR CODE                                  #\n",
    "            ###########################################################################\n",
    "\n",
    "            if verbose and i % 100 == 0:\n",
    "                print ('iteration %d / %d: loss %f' % (i, num_iters, loss))\n",
    "\n",
    "        return loss_history\n",
    "\n",
    "\n",
    "    def loss(self, X, y):\n",
    "        \"\"\"\n",
    "        Compute the loss function and its derivative. \n",
    "        Subclasses will override this.\n",
    "        Inputs:\n",
    "        - X_batch: A numpy array of shape (N, D) containing a minibatch of N\n",
    "          data points; each point has dimension D.\n",
    "        - y_batch: A numpy array of shape (N,) containing labels for the minibatch.\n",
    "        Returns: A tuple containing:\n",
    "        - loss as a single float\n",
    "        - gradient with respect to self.W; an array of the same shape as W\n",
    "        \"\"\"\n",
    "        pass"
   ]
  },
  {
   "cell_type": "markdown",
   "metadata": {
    "id": "p9WqAhlmLMGU"
   },
   "source": [
    "## Linear perceptron\n",
    "Our first linear classifier will include a linear function that maps images to score/scores:\n",
    "\n",
    "$$\n",
    "f(x_i; W, b) = W\\cdot x_i + b\n",
    "$$\n",
    "\n",
    "In the multiclass case, W will be a matrix that maps the input into scores (score for each class) and the final prediction will be the class with the highest score.\n",
    "The binary case is a special case where you can choose to implement W as a 2 dim matrix or as a vector. The first option treats the binary problem as a multiclass problem with 2 classes, therefore, the prediction will be the class with the highest score. In case you choose to implement W as a vector (which map the input to a single score), the final prediction is done by:\n",
    "\n",
    "\n",
    "if w·x+b > 0 classify the target as 1, else classify the target as 0.\n",
    "\n",
    "**Important Note** - In this exercise we focus on the binary case, and you should implement W as a vector.\n",
    "\n",
    "Your goal is to **learn** the parameters $W$ and $b$ to best classify the images according to the provided labels.\n",
    "\n",
    "Read the next code cell. The constructor of the `LinearPerceptron` class takes as input the dataset and labels in order to create appropriate parameters. Notice we are using the bias trick and only use `w` for convenience. You may initialize `w` randomly ([0,1] or [-1,1]).\n",
    "\n",
    "Since we already have a (random) model, we can start predicting classes on images. Complete the method `predict` in the `LinearPerceptron` class. **(5 Points)**"
   ]
  },
  {
   "cell_type": "code",
   "execution_count": 919,
   "metadata": {
    "ExecuteTime": {
     "end_time": "2022-10-29T15:21:38.587623Z",
     "start_time": "2022-10-29T15:21:38.576532Z"
    },
    "id": "cfLTGvYILcJw"
   },
   "outputs": [],
   "source": [
    "class LinearPerceptron(LinearClassifier):\n",
    "    # Classifier that uses Perceptron loss\n",
    "\n",
    "    def __init__(self, X, y):\n",
    "        ###########################################################################\n",
    "        # Initiate the parameters of your model.                                  #\n",
    "        # You can assume y takes values 0...K-1 where K is number of classes      #\n",
    "        ###########################################################################\n",
    "        #                          START OF YOUR CODE                             # \n",
    "        ###########################################################################\n",
    "\n",
    "        self.W = np.random.uniform(-1, 1, (X.shape[1],)) * 0.0001\n",
    "\n",
    "        ###########################################################################\n",
    "        #                           END OF YOUR CODE                              #\n",
    "        ###########################################################################\n",
    "\n",
    "\n",
    "    def predict(self, X):\n",
    "        y_pred = None\n",
    "        ###########################################################################\n",
    "        # Implement this method.                                                  #\n",
    "        ###########################################################################\n",
    "        #                          START OF YOUR CODE                             # \n",
    "        ###########################################################################\n",
    "\n",
    "        scores = np.dot(X, self.W)\n",
    "        y_pred = np.where(scores > 0, 1, -1) \n",
    "        \n",
    "        ###########################################################################\n",
    "        #                           END OF YOUR CODE                              #\n",
    "        ###########################################################################\n",
    "        return y_pred\n",
    "\n",
    "\n",
    "    def loss(self, X_batch, y_batch):\n",
    "        # perceptron_loss_vectorized will be implemented later\n",
    "        return perceptron_loss_vectorized(self.W, X_batch, y_batch)"
   ]
  },
  {
   "cell_type": "code",
   "execution_count": 920,
   "metadata": {
    "ExecuteTime": {
     "end_time": "2022-10-29T15:21:40.039042Z",
     "start_time": "2022-10-29T15:21:39.994118Z"
    },
    "id": "2cb3cgLeET8N"
   },
   "outputs": [],
   "source": [
    "classifier = LinearPerceptron(X_train, y_train)\n",
    "y_pred = classifier.predict(X_test)"
   ]
  },
  {
   "cell_type": "code",
   "execution_count": 921,
   "metadata": {
    "ExecuteTime": {
     "end_time": "2022-10-29T15:21:41.067042Z",
     "start_time": "2022-10-29T15:21:40.894184Z"
    },
    "colab": {
     "base_uri": "https://localhost:8080/",
     "height": 151
    },
    "id": "w2Cv7adkET8N",
    "outputId": "752d16c3-3e78-4b87-e410-62be8eaf5035"
   },
   "outputs": [
    {
     "name": "stdout",
     "output_type": "stream",
     "text": [
      "    plane\t    plane\t    plane\t    plane\n"
     ]
    },
    {
     "data": {
      "image/png": "[encoded data removed]",
      "text/plain": [
       "<Figure size 500x300 with 1 Axes>"
      ]
     },
     "metadata": {},
     "output_type": "display_data"
    }
   ],
   "source": [
    "X_batch, y_batch = get_batch(X_train, y_train, 4)\n",
    "plt.imshow(make_random_grid(X_batch, y_batch, convert_to_image=True))\n",
    "plt.show()"
   ]
  },
  {
   "cell_type": "code",
   "execution_count": 922,
   "metadata": {
    "ExecuteTime": {
     "end_time": "2022-10-29T15:21:42.911853Z",
     "start_time": "2022-10-29T15:21:42.897375Z"
    },
    "colab": {
     "base_uri": "https://localhost:8080/"
    },
    "id": "BKUh3OFFET8N",
    "outputId": "2a295c68-b089-4848-e533-966c764324cc"
   },
   "outputs": [
    {
     "name": "stdout",
     "output_type": "stream",
     "text": [
      "      car       car       car       car\n",
      "Training labels distribution: [5000 5000]\n",
      "Test labels distribution: [507 493]\n"
     ]
    }
   ],
   "source": [
    "# predictions\n",
    "print(' '.join('%9s' % classes[y_pred[j]] for j in range(4)))\n",
    "print(\"Training labels distribution:\", np.bincount(y_train))\n",
    "print(\"Test labels distribution:\", np.bincount(y_test))"
   ]
  },
  {
   "cell_type": "markdown",
   "metadata": {
    "id": "N-1RXh-lET8O"
   },
   "source": [
    "## Evaluation \n",
    "\n",
    "Complete the class method `calc_accuracy`. **(5 Points)**"
   ]
  },
  {
   "cell_type": "code",
   "execution_count": 923,
   "metadata": {
    "ExecuteTime": {
     "end_time": "2022-10-29T15:23:38.099891Z",
     "start_time": "2022-10-29T15:23:38.029739Z"
    },
    "colab": {
     "base_uri": "https://localhost:8080/"
    },
    "id": "IiSJ5-wvET8O",
    "outputId": "2fffb0c5-551f-4ae5-e0c4-3082d1a86338"
   },
   "outputs": [
    {
     "name": "stdout",
     "output_type": "stream",
     "text": [
      "model accuracy:  0.5776\n"
     ]
    }
   ],
   "source": [
    "print(\"model accuracy: \", classifier.calc_accuracy(X_train, y_train))"
   ]
  },
  {
   "cell_type": "markdown",
   "metadata": {
    "id": "fAFp3MOYET8O"
   },
   "source": [
    "**Explain why the accuracy on the training dataset is around 50% (remember, the model is not trained yet). **(5 Points)**** \n",
    "\n",
    "Answer: \n",
    "The accuracy is around 50% because the classes are balanced (5000 examples each), and the model’s weights are randomly initialized. Without training, the predictions are basically random, so the accuracy is like guessing. After training, the model should improve as it learns patterns from the data."
   ]
  },
  {
   "cell_type": "markdown",
   "metadata": {
    "id": "kuFKR-UKET8O"
   },
   "source": [
    "## Perceptron loss\n",
    "\n",
    "Your code for this section will all be written in the next cell. In this section, we write and test code outside the classes for convenience. Notice the loss method for each class is just a call for the loss function written in the next cell. Once you are finished with implementation, everything should work.\n",
    "\n",
    "First, complete the function `perceptron_loss_naive`. This function takes as input the weights, data, labels and outputs the calculated loss as a single number and the gradients with respect to W.  **(15 points)**"
   ]
  },
  {
   "cell_type": "code",
   "execution_count": 863,
   "metadata": {
    "ExecuteTime": {
     "end_time": "2022-10-29T15:23:57.192000Z",
     "start_time": "2022-10-29T15:23:57.177408Z"
    },
    "id": "McEGmknNYFXC"
   },
   "outputs": [],
   "source": [
    "def perceptron_loss_naive(W, X, y):\n",
    "    \"\"\"\n",
    "    Structured perceptron loss function, naive implementation (with loops)\n",
    "    Inputs:\n",
    "    - W: array of weights\n",
    "    - X: array of data\n",
    "    - y: 1-dimensional array of length N with labels 0...K-1, for K classes\n",
    "    Returns:\n",
    "    a tuple of:\n",
    "    - loss as single float\n",
    "    - gradient with respect to weights W; an array of same shape as W\n",
    "    \"\"\"\n",
    "    loss = 0.0\n",
    "    dW = np.zeros(W.shape) # initialize the gradient as zero\n",
    "    #############################################################################\n",
    "    # Compute the perceptron loss as learned in class. Start by iterating over  #\n",
    "    # over all instances and calculate the score and true score for each.       #\n",
    "    # Now, for each class determine if the prediction is correct and update the #\n",
    "    # loss over all mistakes.                                                   #\n",
    "    # Compute the gradient of the loss function and store it as dW.             #\n",
    "    # Rather that first computing the loss and then computing the derivative,   #\n",
    "    # it may be simpler to compute the derivative at the same time that the     #\n",
    "    # loss is being computed.                                                   #\n",
    "    #############################################################################\n",
    "\n",
    "    \n",
    "    num_samples = X.shape[0]\n",
    "\n",
    "    for i in range(num_samples):\n",
    "        sample_score = np.dot(X[i], W)\n",
    "        is_misclassified = (y[i] == 1 and sample_score <= 0) or (y[i] == 0 and sample_score > 0) \n",
    "        \n",
    "        if is_misclassified:\n",
    "            loss += abs(sample_score)\n",
    "            dW += (1 if y[i] == 0 else -1) * X[i].reshape(W.shape)\n",
    "    \n",
    "    loss /= num_samples\n",
    "    dW /= num_samples\n",
    "    \n",
    "    #############################################################################\n",
    "    #                             END OF YOUR CODE                              #\n",
    "    #############################################################################\n",
    "    return loss, dW"
   ]
  },
  {
   "cell_type": "code",
   "execution_count": 864,
   "metadata": {
    "ExecuteTime": {
     "end_time": "2022-10-29T15:23:58.297179Z",
     "start_time": "2022-10-29T15:23:58.278906Z"
    },
    "id": "tGcQrlGJET8O"
   },
   "outputs": [],
   "source": [
    "W = np.random.randn(3073, 1) * 0.0001"
   ]
  },
  {
   "cell_type": "code",
   "execution_count": 865,
   "metadata": {
    "ExecuteTime": {
     "end_time": "2022-10-29T15:23:59.483591Z",
     "start_time": "2022-10-29T15:23:59.450741Z"
    },
    "colab": {
     "base_uri": "https://localhost:8080/"
    },
    "id": "UKmH67DEET8O",
    "outputId": "fe871e58-b641-40d3-accd-7e1cd4d0dc1b"
   },
   "outputs": [
    {
     "name": "stdout",
     "output_type": "stream",
     "text": [
      "loss: 0.107619\n",
      "CPU times: user 48.6 ms, sys: 5.33 ms, total: 54 ms\n",
      "Wall time: 9.35 ms\n"
     ]
    }
   ],
   "source": [
    "%%time\n",
    "loss_naive, _ = perceptron_loss_naive(W, X_val, y_val)\n",
    "print ('loss: %f' % (loss_naive))"
   ]
  },
  {
   "cell_type": "markdown",
   "metadata": {
    "id": "Z-Hh-R7bET8P"
   },
   "source": [
    "Once your code works, complete the function `perceptron_loss_vectorized` and compare the results of the two functions using the cell below. **(15 points)**"
   ]
  },
  {
   "cell_type": "code",
   "execution_count": 866,
   "metadata": {
    "ExecuteTime": {
     "end_time": "2022-10-29T15:24:11.592697Z",
     "start_time": "2022-10-29T15:24:11.576004Z"
    },
    "id": "w1HLNSCWYIRK"
   },
   "outputs": [],
   "source": [
    "def perceptron_loss_vectorized(W, X, y):\n",
    "    \"\"\"\n",
    "    Vectorized version of perceptron_loss_naive. instead of loops, should use \n",
    "    numpy vectorization.\n",
    "\n",
    "    Inputs and outputs are the same as perceptron_loss_naive.\n",
    "    \"\"\"\n",
    "    loss = 0.0\n",
    "    dW = np.zeros(W.shape) # initialize the gradient as zero\n",
    "    #############################################################################\n",
    "    # Implement a vectorized version of the perceptron loss, storing the       #\n",
    "    # result in loss and the gradient in dW                                     #\n",
    "    #############################################################################\n",
    "\n",
    "    scores = X.dot(W).flatten()  \n",
    "    misclassified = ((y == 1) & (scores <= 0)) | ((y == 0) & (scores > 0)) \n",
    "    loss = np.sum(np.abs(scores[misclassified])) / X.shape[0]\n",
    "    adjustment = np.where(y[misclassified] == 0, 1, -1)\n",
    "    dW = np.dot(X[misclassified].T, adjustment).reshape(W.shape) / X.shape[0]    \n",
    "    #############################################################################\n",
    "    #                             END OF YOUR CODE                              #\n",
    "    #############################################################################\n",
    "    return loss, dW"
   ]
  },
  {
   "cell_type": "code",
   "execution_count": 867,
   "metadata": {
    "ExecuteTime": {
     "end_time": "2022-10-29T15:24:12.996442Z",
     "start_time": "2022-10-29T15:24:12.949777Z"
    },
    "colab": {
     "base_uri": "https://localhost:8080/"
    },
    "id": "_puMMu8vET8P",
    "outputId": "910a25b9-0067-4c02-fb5d-5b11137458ec",
    "scrolled": true
   },
   "outputs": [
    {
     "name": "stdout",
     "output_type": "stream",
     "text": [
      "loss: 0.107619\n",
      "CPU times: user 61.9 ms, sys: 5.51 ms, total: 67.4 ms\n",
      "Wall time: 13.2 ms\n"
     ]
    }
   ],
   "source": [
    "%%time\n",
    "loss_vectorized, _ = perceptron_loss_vectorized(W, X_val, y_val)\n",
    "print ('loss: %f' % (loss_vectorized))"
   ]
  },
  {
   "cell_type": "markdown",
   "metadata": {
    "id": "E6oNHXGHET8P"
   },
   "source": [
    "You might not see big changes in time due to other computing factors. In big enough datasets it would be crucial to use the vectorized version.\n",
    "\n",
    "We have obtained an efficient function for loss and gradient calculation and we can now train our network. Complete the function `train` in the `LinearClassifier` class. (**15 points**)"
   ]
  },
  {
   "cell_type": "code",
   "execution_count": 868,
   "metadata": {
    "ExecuteTime": {
     "end_time": "2022-10-29T15:24:38.956156Z",
     "start_time": "2022-10-29T15:24:31.984850Z"
    },
    "colab": {
     "base_uri": "https://localhost:8080/"
    },
    "id": "_QtvCxghET8P",
    "outputId": "1aaeba56-864b-442f-ef6c-a3e0e9fe7c08"
   },
   "outputs": [
    {
     "name": "stdout",
     "output_type": "stream",
     "text": [
      "iteration 0 / 1500: loss 0.047687\n",
      "iteration 100 / 1500: loss 0.011934\n",
      "iteration 200 / 1500: loss 0.007928\n",
      "iteration 300 / 1500: loss 0.004224\n",
      "iteration 400 / 1500: loss 0.007698\n",
      "iteration 500 / 1500: loss 0.005474\n",
      "iteration 600 / 1500: loss 0.006213\n",
      "iteration 700 / 1500: loss 0.004450\n",
      "iteration 800 / 1500: loss 0.004537\n",
      "iteration 900 / 1500: loss 0.004723\n",
      "iteration 1000 / 1500: loss 0.003080\n",
      "iteration 1100 / 1500: loss 0.006543\n",
      "iteration 1200 / 1500: loss 0.003052\n",
      "iteration 1300 / 1500: loss 0.005351\n",
      "iteration 1400 / 1500: loss 0.005122\n",
      "CPU times: user 15.7 s, sys: 2.02 s, total: 17.7 s\n",
      "Wall time: 2.56 s\n"
     ]
    }
   ],
   "source": [
    "%%time\n",
    "perceptron = LinearPerceptron(X_train, y_train)\n",
    "loss_history = perceptron.train(X_train, y_train, learning_rate=1e-7, \n",
    "                                num_iters=1500, verbose=True)"
   ]
  },
  {
   "cell_type": "code",
   "execution_count": 869,
   "metadata": {
    "ExecuteTime": {
     "end_time": "2022-10-29T15:24:39.656566Z",
     "start_time": "2022-10-29T15:24:39.516553Z"
    },
    "colab": {
     "base_uri": "https://localhost:8080/",
     "height": 279
    },
    "id": "_jzvksCFET8P",
    "outputId": "35a93ae5-393f-43ba-ce4c-a0ade49eb1e9"
   },
   "outputs": [
    {
     "data": {
      "image/png": "[encoded data removed]",
      "text/plain": [
       "<Figure size 500x300 with 1 Axes>"
      ]
     },
     "metadata": {},
     "output_type": "display_data"
    }
   ],
   "source": [
    "plt.plot(loss_history)\n",
    "plt.xlabel('Iteration number')\n",
    "plt.ylabel('Loss value')\n",
    "plt.show()"
   ]
  },
  {
   "cell_type": "code",
   "execution_count": 870,
   "metadata": {
    "ExecuteTime": {
     "end_time": "2022-10-29T15:24:40.310924Z",
     "start_time": "2022-10-29T15:24:40.267510Z"
    },
    "colab": {
     "base_uri": "https://localhost:8080/"
    },
    "id": "eFNormxyET8P",
    "outputId": "7aa6b408-7826-4d59-a99c-5f40725a0b1f"
   },
   "outputs": [
    {
     "name": "stdout",
     "output_type": "stream",
     "text": [
      "Training accuracy:  0.7715\n",
      "Testing accuracy:  0.786\n"
     ]
    }
   ],
   "source": [
    "print(\"Training accuracy: \", perceptron.calc_accuracy(X_train, y_train))\n",
    "print(\"Testing accuracy: \", perceptron.calc_accuracy(X_test, y_test))"
   ]
  },
  {
   "cell_type": "markdown",
   "metadata": {
    "id": "R277VSx8ET8P"
   },
   "source": [
    "## Hyperparameter optimization\n",
    "\n",
    "Your model should have improved from 50% accuracy to ~75% accuracy in a matter of seconds. Now, use the validation set to tune hyperparameters by training different models (using the training dataset) and evaluating the performance using the validation dataset. Save the results in a dictionary mapping tuples of the form `(learning_rate, batch_size)` to tuples of the form `(training_accuracy, validation_accuracy)`. Finally, you should evaluate the best model on the testing dataset. \n",
    "\n",
    "Use a small value for the number of iterations as you develop your code. Once you are confident that everything works, run it again for more iterations. **(5 points)**\n"
   ]
  },
  {
   "cell_type": "code",
   "execution_count": 871,
   "metadata": {
    "ExecuteTime": {
     "end_time": "2022-10-29T15:28:28.780040Z",
     "start_time": "2022-10-29T15:27:34.777137Z"
    },
    "colab": {
     "base_uri": "https://localhost:8080/"
    },
    "id": "m_g5iSBQET8Q",
    "outputId": "95953a49-5ff4-456e-db93-734fad51b975"
   },
   "outputs": [
    {
     "name": "stdout",
     "output_type": "stream",
     "text": [
      "lr 1.000000e-07 batch_size 1.000000e+00 train accuracy: 0.724100 val accuracy: 0.743000\n",
      "lr 1.000000e-07 batch_size 1.000000e+02 train accuracy: 0.730600 val accuracy: 0.748000\n",
      "lr 1.000000e-07 batch_size 2.000000e+02 train accuracy: 0.734500 val accuracy: 0.742000\n",
      "lr 1.000000e-07 batch_size 5.000000e+02 train accuracy: 0.734900 val accuracy: 0.751000\n",
      "lr 5.000000e-06 batch_size 1.000000e+00 train accuracy: 0.734100 val accuracy: 0.749000\n",
      "lr 5.000000e-06 batch_size 1.000000e+02 train accuracy: 0.791800 val accuracy: 0.804000\n",
      "lr 5.000000e-06 batch_size 2.000000e+02 train accuracy: 0.776100 val accuracy: 0.785000\n",
      "lr 5.000000e-06 batch_size 5.000000e+02 train accuracy: 0.766900 val accuracy: 0.777000\n",
      "best validation accuracy achieved during cross-validation: 0.804000\n",
      "linear perceptron on raw pixels final test set accuracy: 0.822000\n"
     ]
    }
   ],
   "source": [
    "# You are encouraged to experiment with additional values\n",
    "learning_rates = [1e-7, 5e-6]\n",
    "batch_sizes = [1, 100, 200, 500]\n",
    "\n",
    "results = {}\n",
    "best_val = -1   # The highest validation accuracy that we have seen so far.\n",
    "best_perceptron = None # The LinearPerceptron object that achieved the highest validation rate.\n",
    "\n",
    "################################################################################\n",
    "#                            START OF YOUR CODE                                #\n",
    "################################################################################\n",
    "\n",
    "\n",
    "for lr in learning_rates:\n",
    "    for bs in batch_sizes:\n",
    "        model = LinearPerceptron(X_train, y_train)\n",
    "        model.train(X_train, y_train, lr, 100, bs, False)\n",
    "        train_accuracy = model.calc_accuracy(X_train, y_train)\n",
    "        validation_accuracy = model.calc_accuracy(X_val, y_val)\n",
    "        results[lr, bs] = (train_accuracy, validation_accuracy)\n",
    "        \n",
    "        if validation_accuracy > best_val:\n",
    "            best_val = validation_accuracy\n",
    "            best_perceptron = model\n",
    "\n",
    "\n",
    "\n",
    "################################################################################\n",
    "#                              END OF YOUR CODE                                #\n",
    "################################################################################\n",
    "    \n",
    "# Print out results.\n",
    "for lr, batch_size in sorted(results):\n",
    "    train_accuracy, val_accuracy = results[(lr, batch_size)]\n",
    "    print ('lr %e batch_size %e train accuracy: %f val accuracy: %f' % (\n",
    "                lr, batch_size, train_accuracy, val_accuracy))\n",
    "    \n",
    "print ('best validation accuracy achieved during cross-validation: %f' % best_val)\n",
    "\n",
    "test_accuracy = best_perceptron.calc_accuracy(X_test, y_test)\n",
    "print ('linear perceptron on raw pixels final test set accuracy: %f' % test_accuracy)"
   ]
  },
  {
   "cell_type": "markdown",
   "metadata": {
    "id": "upoW3pQ1ET8Q"
   },
   "source": [
    "## Logistic regression\n",
    "\n",
    "Another choice for a binary classifier is the binary logistic regression classifier. Unlike the perceptron which treats the outputs as uncalibrated and possibly difficult to interpret scores for each class, the binary logistic regression classifier gives a slightly more intuitive output in the form of normalized class probabilities. In this classifier, the function mapping $f(x_i; W, b) = W\\cdot x_i + b$ stays unchanged but we now interpret these scores as the unnormalized log probabilities for each class and replace the perceptron loss with a cross-entropy loss. In this exercise, we will define our binary logistic regression classifier to have one input.       \n",
    "\n",
    "Read the next code cell. The constructor of the `LogisticRegression` class takes as input the dataset and labels in order to create appropriate parameters. Notice we are using the bias trick and only use the matrix `w` for convenience. Since we already have a (random) model, we can start predicting classes on images. Complete the method `predict` in the `LogisticRegression` class - remember you need to implement the sigmoid function before you can obtain predictions using your classifier. **(10 Points)**\n",
    "\n",
    "**Important note**: values passed to the `sigmoid` function can be arbitrarily large or small. When we take the exponent of such values, we might encounter extreme values that might *overflow*. This is known as numerical instability and you should always take care when you use exponent in your functions. "
   ]
  },
  {
   "cell_type": "code",
   "execution_count": 887,
   "metadata": {
    "ExecuteTime": {
     "end_time": "2022-10-29T15:30:35.229664Z",
     "start_time": "2022-10-29T15:30:35.184722Z"
    },
    "id": "Y9cU2sJ_X96d"
   },
   "outputs": [],
   "source": [
    "def sigmoid(x):\n",
    "    \"\"\"\n",
    "    Numerically stable Sigmoid function.\n",
    "\n",
    "    Input: any unnormalized log probabilities vector\n",
    "    Output: normalized probabilities\n",
    "    \"\"\"\n",
    "    #############################################################################\n",
    "    # Implement the function                                                    #\n",
    "    #############################################################################\n",
    "    \n",
    "    return np.where( x >= 0,\n",
    "                    1 / (1 + np.exp(-x)), np.exp(x) / (1 + np.exp(x)) )\n",
    "    \n",
    "    #############################################################################\n",
    "    #                             END OF YOUR CODE                              #\n",
    "    #############################################################################"
   ]
  },
  {
   "cell_type": "code",
   "execution_count": 888,
   "metadata": {
    "ExecuteTime": {
     "end_time": "2022-10-29T15:30:52.504993Z",
     "start_time": "2022-10-29T15:30:52.486057Z"
    },
    "id": "oGClf3GJLlBp"
   },
   "outputs": [],
   "source": [
    "class LogisticRegression(LinearClassifier):\n",
    "    # Classifer that uses sigmoid and binary cross entropy loss\n",
    "    def __init__(self, X, y):\n",
    "        self.W = None\n",
    "        ###########################################################################\n",
    "        # Initiate the parameters of your model.                                  #\n",
    "        ###########################################################################\n",
    "\n",
    "        self.W = np.random.uniform(-1, 1, (X.shape[1],)) * 0.0001\n",
    "\n",
    "        ###########################################################################\n",
    "        #                           END OF YOUR CODE                              #\n",
    "        ###########################################################################\n",
    "\n",
    "\n",
    "    def predict(self, X):\n",
    "        y_pred = None\n",
    "        ###########################################################################\n",
    "        # Implement this method.                                                  #\n",
    "        ###########################################################################\n",
    "\n",
    "        scores = np.dot(X, self.W)\n",
    "        y_pred = np.where(sigmoid(scores) > 0.5, 1, -1) \n",
    "        \n",
    "        \n",
    "        ###########################################################################\n",
    "        #                           END OF YOUR CODE                              #\n",
    "        ###########################################################################\n",
    "        return y_pred\n",
    "\n",
    "\n",
    "    def loss(self, X_batch, y_batch):\n",
    "        # will be implemented later\n",
    "        return binary_cross_entropy(self.W, X_batch, y_batch)"
   ]
  },
  {
   "cell_type": "code",
   "execution_count": 889,
   "metadata": {
    "ExecuteTime": {
     "end_time": "2022-10-29T15:30:53.132207Z",
     "start_time": "2022-10-29T15:30:53.121237Z"
    },
    "id": "BRrb-mb5ET8Q"
   },
   "outputs": [],
   "source": [
    "logistic = LogisticRegression(X_train, y_train)\n",
    "y_pred = logistic.predict(X_test)"
   ]
  },
  {
   "cell_type": "code",
   "execution_count": 890,
   "metadata": {
    "ExecuteTime": {
     "end_time": "2022-10-29T15:30:53.866044Z",
     "start_time": "2022-10-29T15:30:53.729569Z"
    },
    "colab": {
     "base_uri": "https://localhost:8080/",
     "height": 151
    },
    "id": "jUb2tkIMET8Q",
    "outputId": "291f15f3-2027-4203-e341-932763106cdb"
   },
   "outputs": [
    {
     "name": "stdout",
     "output_type": "stream",
     "text": [
      "    plane\t    plane\t      car\t    plane\n"
     ]
    },
    {
     "data": {
      "text/plain": [
       "<matplotlib.image.AxesImage at 0x12412b190>"
      ]
     },
     "execution_count": 890,
     "metadata": {},
     "output_type": "execute_result"
    },
    {
     "data": {
      "image/png": "[encoded data removed]",
      "text/plain": [
       "<Figure size 500x300 with 1 Axes>"
      ]
     },
     "metadata": {},
     "output_type": "display_data"
    }
   ],
   "source": [
    "X_batch, y_batch = get_batch(X_train, y_train, 4)\n",
    "plt.imshow(make_random_grid(X_batch, y_batch))"
   ]
  },
  {
   "cell_type": "code",
   "execution_count": 891,
   "metadata": {
    "ExecuteTime": {
     "end_time": "2022-10-29T15:31:05.584563Z",
     "start_time": "2022-10-29T15:31:05.559650Z"
    },
    "colab": {
     "base_uri": "https://localhost:8080/"
    },
    "id": "1I5T0LiBET8Q",
    "outputId": "c2163b3f-210c-4960-9800-4ab2d54fd9a0"
   },
   "outputs": [
    {
     "name": "stdout",
     "output_type": "stream",
     "text": [
      "          car           car           car           car\n"
     ]
    }
   ],
   "source": [
    "# predictions\n",
    "print(' '.join('%13s' % classes[y_pred[j]] for j in range(4)))"
   ]
  },
  {
   "cell_type": "code",
   "execution_count": 892,
   "metadata": {
    "ExecuteTime": {
     "end_time": "2022-10-29T15:31:10.105426Z",
     "start_time": "2022-10-29T15:31:10.033927Z"
    },
    "colab": {
     "base_uri": "https://localhost:8080/"
    },
    "id": "29GDDyzIET8Q",
    "outputId": "22eea029-a2b6-441d-dee6-b1819eda9b27"
   },
   "outputs": [
    {
     "name": "stdout",
     "output_type": "stream",
     "text": [
      "model accuracy:  0.4932\n"
     ]
    }
   ],
   "source": [
    "print(\"model accuracy: \", logistic.calc_accuracy(X_train, y_train))"
   ]
  },
  {
   "cell_type": "markdown",
   "metadata": {
    "id": "Vpy2WTyGET8Q"
   },
   "source": [
    "## Binary cross-entropy\n",
    "\n",
    "Your code for this section will written in the next cell. \n",
    "\n",
    "Complete the function `binary_cross_entropy` using vectorized code. This function takes as input the weights, data, labels and outputs the calculated loss as a single number and the gradients with respect to W. (**20 points**)"
   ]
  },
  {
   "cell_type": "code",
   "execution_count": 904,
   "metadata": {
    "ExecuteTime": {
     "end_time": "2022-10-29T15:31:30.874716Z",
     "start_time": "2022-10-29T15:31:30.826315Z"
    },
    "id": "pfjEDW6n3mRu"
   },
   "outputs": [],
   "source": [
    "def binary_cross_entropy(W, X, y):\n",
    "    \"\"\"\n",
    "    Structured BCE loss function. Implement this function using vectorized code.\n",
    "    Inputs:\n",
    "    - W: array of weights\n",
    "    - X: array of data\n",
    "    - y: 1-dimensional array of length N with binary labels (0,1). \n",
    "    Returns:\n",
    "    a tuple of:\n",
    "    - loss as single float\n",
    "    - gradient with respect to weights W; an array of same shape as W\n",
    "    \"\"\"\n",
    "    loss = 0.0\n",
    "    dW = np.zeros(W.shape) # initialize the gradient as zero\n",
    "    #############################################################################\n",
    "    # Implement the function and store result in loss and the gradint in dW     #\n",
    "    # Note: in class you defined BCE that takes values from the range (-1,1).   #\n",
    "    # and the sigmoid function generally outputs values in the range (0,1).     #\n",
    "    # Make the proper adjustments for your code to work.                        #\n",
    "    #############################################################################\n",
    "    \n",
    "    num_samples = X.shape[0]\n",
    "    scores = np.dot(X, W)\n",
    "    sigmoid_scores = sigmoid(y * scores)\n",
    "    loss = np.sum(-np.log(sigmoid_scores)) / num_samples\n",
    "    dW = np.dot(X.T, (sigmoid_scores - 1) * y) / num_samples  \n",
    "    \n",
    "    \n",
    "    #############################################################################\n",
    "    #                             END OF YOUR CODE                              #\n",
    "    #############################################################################\n",
    "    return loss, dW"
   ]
  },
  {
   "cell_type": "code",
   "execution_count": 905,
   "metadata": {
    "ExecuteTime": {
     "end_time": "2022-10-29T15:31:34.082144Z",
     "start_time": "2022-10-29T15:31:34.066172Z"
    },
    "id": "EvLw8x4oET8Q"
   },
   "outputs": [],
   "source": [
    "W = np.random.randn(3073, ) * 0.0001"
   ]
  },
  {
   "cell_type": "code",
   "execution_count": 906,
   "metadata": {
    "ExecuteTime": {
     "end_time": "2022-10-29T15:31:36.963381Z",
     "start_time": "2022-10-29T15:31:36.923469Z"
    },
    "colab": {
     "base_uri": "https://localhost:8080/"
    },
    "id": "1VKKB4y8ET8Q",
    "outputId": "69441e31-0264-4ef0-bd70-dfbaf258da76"
   },
   "outputs": [
    {
     "name": "stdout",
     "output_type": "stream",
     "text": [
      "loss: 0.681517\n",
      "CPU times: user 95.7 ms, sys: 16.4 ms, total: 112 ms\n",
      "Wall time: 85 ms\n"
     ]
    }
   ],
   "source": [
    "%%time\n",
    "loss_naive, grad_naive = binary_cross_entropy(W, X_val, y_val)\n",
    "print ('loss: %f' % (loss_naive, ))"
   ]
  },
  {
   "cell_type": "markdown",
   "metadata": {
    "id": "IawKSQqf8vSq"
   },
   "source": [
    "You are provided with a gradient test in the next cells:"
   ]
  },
  {
   "cell_type": "code",
   "execution_count": 907,
   "metadata": {
    "ExecuteTime": {
     "end_time": "2022-10-29T15:32:14.847516Z",
     "start_time": "2022-10-29T15:32:14.835995Z"
    },
    "id": "nms4Rd7O8s2l"
   },
   "outputs": [],
   "source": [
    "def grad_check(f, x, analytic_grad, num_checks=10, h=1e-5):\n",
    "    for i in range(num_checks):\n",
    "        ix = tuple([randrange(m) for m in x.shape])\n",
    "\n",
    "        oldval = x[ix]\n",
    "        x[ix] = oldval + h # increment by h\n",
    "        fxph = f(x) # evaluate f(x + h)\n",
    "        x[ix] = oldval - h # increment by h\n",
    "        fxmh = f(x) # evaluate f(x - h)\n",
    "        x[ix] = oldval # reset\n",
    "\n",
    "        grad_numerical = (fxph - fxmh) / (2 * h)\n",
    "        grad_analytic = analytic_grad[ix]\n",
    "        rel_error = abs(grad_numerical - grad_analytic) / (abs(grad_numerical) + abs(grad_analytic))\n",
    "        print ('numerical: %f analytic: %f, relative error: %e' % (grad_numerical, grad_analytic, rel_error))"
   ]
  },
  {
   "cell_type": "code",
   "execution_count": 908,
   "metadata": {
    "ExecuteTime": {
     "end_time": "2022-10-29T15:32:16.311794Z",
     "start_time": "2022-10-29T15:32:16.096941Z"
    },
    "colab": {
     "base_uri": "https://localhost:8080/"
    },
    "id": "i0OWqVCzET8R",
    "outputId": "208134b9-db41-46bf-b8ee-73077bb65d03"
   },
   "outputs": [
    {
     "name": "stdout",
     "output_type": "stream",
     "text": [
      "numerical: -0.038746 analytic: -0.038746, relative error: 1.608311e-06\n",
      "numerical: 1.093175 analytic: 1.093175, relative error: 7.705290e-08\n",
      "numerical: 3.064897 analytic: 3.064897, relative error: 1.946625e-08\n",
      "numerical: 0.280026 analytic: 0.280026, relative error: 9.623196e-08\n",
      "numerical: 1.364471 analytic: 1.364471, relative error: 3.412582e-08\n",
      "numerical: 1.560272 analytic: 1.560272, relative error: 3.587045e-09\n",
      "numerical: 0.944119 analytic: 0.944119, relative error: 4.575972e-08\n",
      "numerical: 1.827792 analytic: 1.827792, relative error: 3.267747e-08\n",
      "numerical: 1.415492 analytic: 1.415492, relative error: 1.123112e-08\n",
      "numerical: 1.144040 analytic: 1.144040, relative error: 9.718821e-09\n"
     ]
    }
   ],
   "source": [
    "loss, grad = binary_cross_entropy(W, X_val, y_val)\n",
    "f = lambda w: binary_cross_entropy(w, X_val, y_val)[0]\n",
    "grad_numerical = grad_check(f, W, grad)"
   ]
  },
  {
   "cell_type": "markdown",
   "metadata": {
    "id": "r-qL6Ti_ET8R"
   },
   "source": [
    "If implemented correctly, the training procedure you already implemented should work."
   ]
  },
  {
   "cell_type": "code",
   "execution_count": 898,
   "metadata": {
    "ExecuteTime": {
     "end_time": "2022-10-29T15:32:33.879334Z",
     "start_time": "2022-10-29T15:32:29.754892Z"
    },
    "colab": {
     "base_uri": "https://localhost:8080/"
    },
    "id": "RlW4q5xjET8R",
    "outputId": "4e639294-486c-40b8-cad1-8f49116b0509"
   },
   "outputs": [
    {
     "name": "stdout",
     "output_type": "stream",
     "text": [
      "iteration 0 / 1500: loss 0.746394\n",
      "iteration 100 / 1500: loss 0.490014\n",
      "iteration 200 / 1500: loss 0.512683\n",
      "iteration 300 / 1500: loss 0.487433\n",
      "iteration 400 / 1500: loss 0.446337\n",
      "iteration 500 / 1500: loss 0.428897\n",
      "iteration 600 / 1500: loss 0.427012\n",
      "iteration 700 / 1500: loss 0.432148\n",
      "iteration 800 / 1500: loss 0.420444\n",
      "iteration 900 / 1500: loss 0.418817\n",
      "iteration 1000 / 1500: loss 0.418063\n",
      "iteration 1100 / 1500: loss 0.391284\n",
      "iteration 1200 / 1500: loss 0.452111\n",
      "iteration 1300 / 1500: loss 0.457943\n",
      "iteration 1400 / 1500: loss 0.352001\n",
      "CPU times: user 15.7 s, sys: 1.99 s, total: 17.7 s\n",
      "Wall time: 2.51 s\n"
     ]
    }
   ],
   "source": [
    "%%time\n",
    "logistic = LogisticRegression(X_train, y_train)\n",
    "loss_history = logistic.train(X_train, y_train, \n",
    "                         learning_rate=1e-7,\n",
    "                         num_iters=1500,\n",
    "                         verbose=True)"
   ]
  },
  {
   "cell_type": "code",
   "execution_count": 899,
   "metadata": {
    "ExecuteTime": {
     "end_time": "2022-10-29T15:32:34.608148Z",
     "start_time": "2022-10-29T15:32:34.441343Z"
    },
    "colab": {
     "base_uri": "https://localhost:8080/",
     "height": 279
    },
    "id": "v_6Pf6lYET8R",
    "outputId": "f7d461cd-8211-4eeb-fe63-ae5e75ee18f2",
    "scrolled": true
   },
   "outputs": [
    {
     "data": {
      "image/png": "[encoded data removed]",
      "text/plain": [
       "<Figure size 500x300 with 1 Axes>"
      ]
     },
     "metadata": {},
     "output_type": "display_data"
    }
   ],
   "source": [
    "plt.plot(loss_history)\n",
    "plt.xlabel('Iteration number')\n",
    "plt.ylabel('Loss value')\n",
    "plt.show()"
   ]
  },
  {
   "cell_type": "code",
   "execution_count": 900,
   "metadata": {
    "ExecuteTime": {
     "end_time": "2022-10-29T15:32:35.262213Z",
     "start_time": "2022-10-29T15:32:35.201690Z"
    },
    "colab": {
     "base_uri": "https://localhost:8080/"
    },
    "id": "4S2RkwT3ET8R",
    "outputId": "d1e1232a-da7b-4b80-a7e4-18a21923d94b"
   },
   "outputs": [
    {
     "name": "stdout",
     "output_type": "stream",
     "text": [
      "Training accuracy:  0.8163\n",
      "Testing accuracy:  0.822\n"
     ]
    }
   ],
   "source": [
    "print(\"Training accuracy: \", logistic.calc_accuracy(X_train, y_train))\n",
    "print(\"Testing accuracy: \", logistic.calc_accuracy(X_test, y_test))"
   ]
  },
  {
   "cell_type": "markdown",
   "metadata": {
    "id": "G-1hg3RWET8R"
   },
   "source": [
    "## Hyperparameter optimization\n",
    "\n",
    "Your model should have improved from 50% accuracy to ~75% accuracy in a matter of seconds. Now, use the validation set to tune hyperparameters by training different models (using the training dataset) and evaluating the performance using the validation dataset. Save the results in a dictionary mapping tuples of the form `(learning_rate, batch_size)` to tuples of the form `(training_accuracy, validation_accuracy)`. Finally, you should evaluate the best model on the testing dataset. \n",
    "\n",
    "Use a small value for the number of iterations as you develop your code. Once you are confident that everything works, run it again for more iterations. **(5 points)**"
   ]
  },
  {
   "cell_type": "code",
   "execution_count": 901,
   "metadata": {
    "ExecuteTime": {
     "end_time": "2022-10-29T15:34:05.819661Z",
     "start_time": "2022-10-29T15:33:33.339414Z"
    },
    "colab": {
     "base_uri": "https://localhost:8080/"
    },
    "id": "sxXvTbhJET8R",
    "outputId": "6acf3087-3461-4715-92c9-0fc4029f6c2f"
   },
   "outputs": [
    {
     "name": "stdout",
     "output_type": "stream",
     "text": [
      "lr 1.000000e-07 batch_size 1.000000e+00 train accuracy: 0.753200 val accuracy: 0.751000\n",
      "lr 1.000000e-07 batch_size 1.000000e+02 train accuracy: 0.776200 val accuracy: 0.790000\n",
      "lr 1.000000e-07 batch_size 2.000000e+02 train accuracy: 0.774300 val accuracy: 0.783000\n",
      "lr 1.000000e-07 batch_size 5.000000e+02 train accuracy: 0.773100 val accuracy: 0.781000\n",
      "lr 5.000000e-06 batch_size 1.000000e+00 train accuracy: 0.742300 val accuracy: 0.754000\n",
      "lr 5.000000e-06 batch_size 1.000000e+02 train accuracy: 0.782200 val accuracy: 0.774000\n",
      "lr 5.000000e-06 batch_size 2.000000e+02 train accuracy: 0.817400 val accuracy: 0.817000\n",
      "lr 5.000000e-06 batch_size 5.000000e+02 train accuracy: 0.822100 val accuracy: 0.820000\n",
      "best validation accuracy achieved during cross-validation: 0.820000\n",
      "Binary logistic regression on raw pixels final test set accuracy: 0.823000\n"
     ]
    }
   ],
   "source": [
    "# You are encouraged to experiment with additional values\n",
    "learning_rates = [1e-7, 5e-6]\n",
    "batch_sizes = [1, 100, 200, 500]\n",
    "\n",
    "results = {}\n",
    "best_val = -1   # The highest validation accuracy that we have seen so far.\n",
    "best_logistic = None # The LogisticRegression object that achieved the highest validation rate.\n",
    "\n",
    "################################################################################\n",
    "#                            START OF YOUR CODE                                #\n",
    "################################################################################\n",
    "\n",
    "for lr in learning_rates:\n",
    "    for bs in batch_sizes:\n",
    "        model = LogisticRegression(X_train, y_train)\n",
    "        model.train(X_train, y_train, lr, 100, bs, False)\n",
    "        train_accuracy = model.calc_accuracy(X_train, y_train)\n",
    "        validation_accuracy = model.calc_accuracy(X_val, y_val)\n",
    "        results[lr, bs] = (train_accuracy, validation_accuracy)\n",
    "        \n",
    "        if validation_accuracy > best_val:\n",
    "            best_val = validation_accuracy\n",
    "            best_logistic = model\n",
    "\n",
    "################################################################################\n",
    "#                              END OF YOUR CODE                                #\n",
    "################################################################################\n",
    "    \n",
    "# Print out results.\n",
    "for lr, batch_size in sorted(results):\n",
    "    train_accuracy, val_accuracy = results[(lr, batch_size)]\n",
    "    print ('lr %e batch_size %e train accuracy: %f val accuracy: %f' % (\n",
    "                lr, batch_size, train_accuracy, val_accuracy))\n",
    "    \n",
    "print ('best validation accuracy achieved during cross-validation: %f' % best_val)\n",
    "\n",
    "test_accuracy = best_logistic.calc_accuracy(X_test, y_test)\n",
    "print ('Binary logistic regression on raw pixels final test set accuracy: %f' % test_accuracy)"
   ]
  },
  {
   "cell_type": "markdown",
   "metadata": {
    "id": "rdRdvKwR7MdF"
   },
   "source": [
    "# The End!"
   ]
  }
 ],
 "metadata": {
  "colab": {
   "collapsed_sections": [],
   "name": "HW1.ipynb",
   "provenance": []
  },
  "kernelspec": {
   "display_name": "Python 3 (ipykernel)",
   "language": "python",
   "name": "python3"
  },
  "language_info": {
   "codemirror_mode": {
    "name": "ipython",
    "version": 3
   },
   "file_extension": ".py",
   "mimetype": "text/x-python",
   "name": "python",
   "nbconvert_exporter": "python",
   "pygments_lexer": "ipython3",
   "version": "3.9.20"
  },
  "toc": {
   "base_numbering": 1,
   "nav_menu": {},
   "number_sections": true,
   "sideBar": true,
   "skip_h1_title": false,
   "title_cell": "Table of Contents",
   "title_sidebar": "Contents",
   "toc_cell": false,
   "toc_position": {},
   "toc_section_display": true,
   "toc_window_display": false
  },
  "varInspector": {
   "cols": {
    "lenName": 16,
    "lenType": 16,
    "lenVar": 40
   },
   "kernels_config": {
    "python": {
     "delete_cmd_postfix": "",
     "delete_cmd_prefix": "del ",
     "library": "var_list.py",
     "varRefreshCmd": "print(var_dic_list())"
    },
    "r": {
     "delete_cmd_postfix": ") ",
     "delete_cmd_prefix": "rm(",
     "library": "var_list.r",
     "varRefreshCmd": "cat(var_dic_list()) "
    }
   },
   "types_to_exclude": [
    "module",
    "function",
    "builtin_function_or_method",
    "instance",
    "_Feature"
   ],
   "window_display": false
  }
 },
 "nbformat": 4,
 "nbformat_minor": 4
}
